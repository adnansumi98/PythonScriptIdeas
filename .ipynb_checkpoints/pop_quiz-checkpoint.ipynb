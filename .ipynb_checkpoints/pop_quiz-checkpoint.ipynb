{
 "cells": [
  {
   "cell_type": "markdown",
   "id": "9972bcde-12ad-4230-8c46-3be05963034f",
   "metadata": {},
   "source": [
    "This notebook has the working of #Python pop quiz from Mike Driscoll twitter page "
   ]
  },
  {
   "cell_type": "code",
   "execution_count": 1,
   "id": "0797d472-ed72-4035-b645-d71735d50741",
   "metadata": {},
   "outputs": [
    {
     "name": "stdout",
     "output_type": "stream",
     "text": [
      "['C++', 'Javascript', 'Rust']\n"
     ]
    }
   ],
   "source": [
    "# 20 Nov 2024\n",
    "languages = ['Java','C++','Python','Javascript','Julia','Rust']\n",
    "for lang in languages:\n",
    "    languages.remove(lang)\n",
    "\n",
    "print(languages)"
   ]
  },
  {
   "cell_type": "markdown",
   "id": "937beaf7-4ab8-46f3-8ff0-a9bd639e1840",
   "metadata": {},
   "source": [
    "#### explanation:\n",
    "    for the first iteration 0-Java is removed which places C++ the index 0 \n",
    "    for the second iteration 1-Python is removed which places Javascipt in index 1\n",
    "    for the third iteration 2-Julia is removed which places Rust in index 2\n",
    "    hence the output: ['C++', 'Javascript', 'Rust']"
   ]
  },
  {
   "cell_type": "code",
   "execution_count": 8,
   "id": "c366cc24-13d8-418c-bf3b-de85242884c4",
   "metadata": {},
   "outputs": [
    {
     "data": {
      "text/plain": [
       "''"
      ]
     },
     "execution_count": 8,
     "metadata": {},
     "output_type": "execute_result"
    }
   ],
   "source": [
    "# 19 Nov 2024\n",
    "pybool = False\n",
    "\"Python\" * pybool"
   ]
  },
  {
   "cell_type": "markdown",
   "id": "4589262a-24f6-48d3-a833-15192b349e0c",
   "metadata": {},
   "source": [
    "#### explanation \n",
    "    the multiplication operation of the string with True return the same string \n",
    "    eg: True * \"Python\" returns \"Python\"\n",
    "    while mulplication with False return an empty string \n",
    "    eg: False * \"Python\" returns \"\""
   ]
  },
  {
   "cell_type": "code",
   "execution_count": 13,
   "id": "3623cb24-a9b9-4424-aa78-3db916c2af7b",
   "metadata": {},
   "outputs": [
    {
     "name": "stdout",
     "output_type": "stream",
     "text": [
      "\\\"\n"
     ]
    }
   ],
   "source": [
    "# 18 Nov 2024\n",
    "print(r\"\\\"\")"
   ]
  },
  {
   "cell_type": "markdown",
   "id": "20d4f42c-335f-4641-9260-d9040b06748a",
   "metadata": {},
   "source": [
    "#### explanation \n",
    "    python raw string considers the escape sequence like a regular character and print out the string as it is \n",
    "    eg: print(r\"\\\") will return \\\n",
    "        pring(r\"\\\"\") will return \\\""
   ]
  },
  {
   "cell_type": "code",
   "execution_count": 4,
   "id": "260168ab-9354-4389-a20c-22d0522aa6cf",
   "metadata": {},
   "outputs": [
    {
     "data": {
      "text/plain": [
       "True"
      ]
     },
     "execution_count": 4,
     "metadata": {},
     "output_type": "execute_result"
    }
   ],
   "source": [
    "# 21 Nov 2024\n",
    "\"Mike\" in \"Mike\" in \"Mike\""
   ]
  },
  {
   "cell_type": "markdown",
   "id": "10242b82-9aa5-4de8-990e-f245587b3305",
   "metadata": {},
   "source": [
    "#### explanation\n",
    "    python splits \"Mike\" in \"Mike\" in \"Mike\" into two seperate \n",
    "    \"Mike\"in \"Mike\" & \"Mike\"in \"Mike\" both of which is true\n",
    "    True & True is True. Hence, True is returned"
   ]
  },
  {
   "cell_type": "code",
   "execution_count": 6,
   "id": "0e0d0dc6-5f06-431b-b4ea-6edb66eaff0b",
   "metadata": {},
   "outputs": [
    {
     "name": "stdout",
     "output_type": "stream",
     "text": [
      "True\n"
     ]
    }
   ],
   "source": [
    "# Nov 10 2024\n",
    "print( False == False in [False])"
   ]
  },
  {
   "cell_type": "markdown",
   "id": "59771f50-7f8f-4283-9288-e57a336ac4df",
   "metadata": {},
   "source": [
    "#### explanation\n",
    "    similar to the above problem. Python first executes \n",
    "    False == False which evaluated to be true. then \n",
    "\n",
    "    False in [False] which is also true. Hence True is returned"
   ]
  },
  {
   "cell_type": "code",
   "execution_count": 15,
   "id": "bb94a740-d9f9-4695-a6f5-969d21d1a0be",
   "metadata": {},
   "outputs": [
    {
     "ename": "SyntaxError",
     "evalue": "invalid syntax (2039543926.py, line 6)",
     "output_type": "error",
     "traceback": [
      "\u001b[1;36m  Cell \u001b[1;32mIn[15], line 6\u001b[1;36m\u001b[0m\n\u001b[1;33m    models: list = field(default_factory=lambda: [\"F-150\" , \"Mustang\"])models: list = field(default_factory=lambda: [\"F-150\" , \"Mustang\"])\u001b[0m\n\u001b[1;37m                                                                       ^\u001b[0m\n\u001b[1;31mSyntaxError\u001b[0m\u001b[1;31m:\u001b[0m invalid syntax\n"
     ]
    }
   ],
   "source": [
    "# 09 Nov 2024\n",
    "from dataclasses import dataclass, field\n",
    "\n",
    "@dataclass\n",
    "class Ford:\n",
    "    # models: list = field(default_factory=[\"F-150\" , \"Mustang\"]) \n",
    "    # models accepts list do we need to return a List using \"lambda\"\n",
    "    models: list = field(default_factory=lambda: [\"F-150\" , \"Mustang\"])\n",
    "\n",
    "vehicles = Ford()"
   ]
  },
  {
   "cell_type": "markdown",
   "id": "0b978f73-8c6b-477d-ac25-ed7f761728af",
   "metadata": {},
   "source": [
    "explanation "
   ]
  }
 ],
 "metadata": {
  "kernelspec": {
   "display_name": "Python 3 (ipykernel)",
   "language": "python",
   "name": "python3"
  },
  "language_info": {
   "codemirror_mode": {
    "name": "ipython",
    "version": 3
   },
   "file_extension": ".py",
   "mimetype": "text/x-python",
   "name": "python",
   "nbconvert_exporter": "python",
   "pygments_lexer": "ipython3",
   "version": "3.12.7"
  }
 },
 "nbformat": 4,
 "nbformat_minor": 5
}
