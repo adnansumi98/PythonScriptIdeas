


# 20 Nov 2024
languages = ['Java','C++','Python','Javascript','Julia','Rust']
for lang in languages:
    languages.remove(lang)

print(languages)





# 19 Nov 2024
pybool = False
"Python" * pybool





# 18 Nov 2024
print(r"\"")





# 21 Nov 2024
"Mike" in "Mike" in "Mike"





# Nov 10 2024
print( False == False in [False])





# 09 Nov 2024
from dataclasses import dataclass, field

@dataclass
class Ford:
    # models: list = field(default_factory=["F-150" , "Mustang"]) 
    # models accepts list do we need to return a List using "lambda"
    models: list = field(default_factory=lambda: ["F-150" , "Mustang"])

vehicles = Ford()






